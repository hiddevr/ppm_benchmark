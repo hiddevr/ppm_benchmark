{
 "cells": [
  {
   "cell_type": "code",
   "id": "initial_id",
   "metadata": {
    "collapsed": true,
    "ExecuteTime": {
     "end_time": "2024-09-08T09:50:58.711459Z",
     "start_time": "2024-09-08T09:44:28.649482Z"
    }
   },
   "source": [
    "from ppm_benchmark.core.benchmark_loader import BenchmarkLoader\n",
    "\n",
    "\n",
    "loader = BenchmarkLoader()\n",
    "benchmark = loader.load_from_config('../benchmark_configs/remote/mini/remote_outcome_classification.yaml', max_workers=2)\n",
    "\n",
    "tasks = benchmark.get_tasks()\n",
    "tasks"
   ],
   "execution_count": 1,
   "outputs": []
  },
  {
   "metadata": {
    "ExecuteTime": {
     "start_time": "2024-09-08T09:51:03.121188Z"
    }
   },
   "cell_type": "code",
   "source": [
    "from ppm_benchmark.core.benchmark_loader import BenchmarkLoader\n",
    "from sklearn.ensemble import RandomForestClassifier\n",
    "from ppm_benchmark.utils.label_encoder import PPMLabelEncoder\n",
    "from tqdm.notebook import tqdm\n",
    "\n",
    "loader = BenchmarkLoader()\n",
    "benchmark = loader.load_from_folder('outcome_classification')\n",
    "tasks = benchmark.get_tasks()\n",
    "results = dict()\n",
    "\n",
    "for task_name in tqdm(tasks):\n",
    "    task = benchmark.load_task(task_name)\n",
    "    train = task.get_train_data()\n",
    "    print(task.get_test_data()['case:concept:name'].nunique())\n",
    "    test = task.get_test_data().drop('target', axis=1)\n",
    "    \n",
    "    string_cols = train.select_dtypes(include=['object']).columns\n",
    "    encoder = PPMLabelEncoder()\n",
    "    train[string_cols] = encoder.fit_transform(train[string_cols])\n",
    "    string_cols = test.select_dtypes(include=['object']).columns\n",
    "    test[string_cols] = encoder.transform_with_new_labels(test[string_cols])\n",
    "    \n",
    "    X = train.drop('target', axis=1)\n",
    "    y = train['target']\n",
    "    \n",
    "    model = RandomForestClassifier()\n",
    "    model.fit(X, y)\n",
    "        \n",
    "    probas = model.predict_proba(test)\n",
    "    #decoded_labels = encoder.inverse_transform_column('target', model.classes_)\n",
    "    \n",
    "    result = []\n",
    "    for row in probas:\n",
    "        row_dict = {model.classes_[idx]: prob for idx, prob in enumerate(row)}\n",
    "        result.append(row_dict)\n",
    "    \n",
    "    results[task.name] = result"
   ],
   "id": "fbb3b2a3b6a8abfe",
   "execution_count": null,
   "outputs": []
  },
  {
   "metadata": {},
   "cell_type": "code",
   "source": [
    "import pickle\n",
    "\n",
    "with open('outcome_classification/test_results.pkl', 'wb') as f:\n",
    "    pickle.dump(results, f)"
   ],
   "id": "9b28b19a20efb1f4",
   "execution_count": null,
   "outputs": []
  },
  {
   "metadata": {
    "ExecuteTime": {
     "end_time": "2024-09-11T06:26:36.545267Z",
     "start_time": "2024-09-11T06:26:33.069518Z"
    }
   },
   "cell_type": "code",
   "source": [
    "import pickle\n",
    "from ppm_benchmark.core.benchmark_loader import BenchmarkLoader\n",
    "\n",
    "\n",
    "loader = BenchmarkLoader()\n",
    "benchmark = loader.load_from_folder('outcome_classification')\n",
    "evaluator = benchmark.get_evaluator()\n",
    "\n",
    "with open('outcome_classification/test_results.pkl', 'rb') as f:\n",
    "    results = pickle.load(f)"
   ],
   "id": "bbc914993e8f7486",
   "execution_count": 1,
   "outputs": []
  },
  {
   "metadata": {
    "ExecuteTime": {
     "end_time": "2024-09-11T06:26:38.705100Z",
     "start_time": "2024-09-11T06:26:36.547810Z"
    }
   },
   "cell_type": "code",
   "source": [
    "for task_name, result in results.items():\n",
    "    evaluator.add_predictions(task_name, result, 'RF')\n",
    "    "
   ],
   "id": "bc0c7e29010ed5f9",
   "execution_count": 2,
   "outputs": []
  },
  {
   "metadata": {},
   "cell_type": "code",
   "source": "evaluator.evaluate()",
   "id": "e172b77d27efcbb3",
   "execution_count": null,
   "outputs": []
  },
  {
   "metadata": {},
   "cell_type": "code",
   "source": "evaluator.plot_by_fraction_completed('Accuracy')",
   "id": "f0accc28fb3ddbbf",
   "execution_count": null,
   "outputs": []
  },
  {
   "metadata": {},
   "cell_type": "code",
   "source": "evaluator.plot_by_train_act_distance('Accuracy')",
   "id": "1fc78432f5d504c1",
   "execution_count": null,
   "outputs": []
  },
  {
   "metadata": {},
   "cell_type": "code",
   "source": "evaluator.plot_by_attr_drift_column('Accuracy')",
   "id": "ac90540739ddd6f1",
   "execution_count": null,
   "outputs": []
  },
  {
   "metadata": {},
   "cell_type": "code",
   "source": "evaluator.plot_lass_bar()",
   "id": "7de27e6d87ed09e5",
   "execution_count": null,
   "outputs": []
  },
  {
   "metadata": {
    "ExecuteTime": {
     "end_time": "2024-07-25T10:41:18.450809Z",
     "start_time": "2024-07-25T10:41:18.436809Z"
    }
   },
   "cell_type": "code",
   "source": "",
   "id": "9c324e385466b29f",
   "execution_count": 10,
   "outputs": []
  }
 ],
 "metadata": {
  "kernelspec": {
   "display_name": "Python 3",
   "language": "python",
   "name": "python3"
  },
  "language_info": {
   "codemirror_mode": {
    "name": "ipython",
    "version": 2
   },
   "file_extension": ".py",
   "mimetype": "text/x-python",
   "name": "python",
   "nbconvert_exporter": "python",
   "pygments_lexer": "ipython2",
   "version": "2.7.6"
  }
 },
 "nbformat": 4,
 "nbformat_minor": 5
}
