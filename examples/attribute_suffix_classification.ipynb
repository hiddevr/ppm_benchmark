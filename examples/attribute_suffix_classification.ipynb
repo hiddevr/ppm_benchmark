{
 "cells": [
  {
   "cell_type": "code",
   "id": "initial_id",
   "metadata": {
    "collapsed": true,
    "ExecuteTime": {
     "end_time": "2024-09-08T08:09:17.670044Z",
     "start_time": "2024-09-08T08:08:22.456799Z"
    }
   },
   "source": [
    "from ppm_benchmark.core.benchmark_loader import BenchmarkLoader\n",
    "\n",
    "\n",
    "loader = BenchmarkLoader()\n",
    "benchmark = loader.load_from_config('../benchmark_configs/remote/mini/remote_attribute_suffix_classification.yaml', max_workers=2)\n",
    "\n",
    "tasks = benchmark.get_tasks()\n",
    "tasks"
   ],
   "execution_count": 1,
   "outputs": []
  },
  {
   "metadata": {
    "ExecuteTime": {
     "end_time": "2024-09-08T08:10:02.764003Z",
     "start_time": "2024-09-08T08:09:17.672042Z"
    }
   },
   "cell_type": "code",
   "source": [
    "import numpy as np\n",
    "from ppm_benchmark.core.benchmark_loader import BenchmarkLoader\n",
    "from ppm_benchmark.utils.label_encoder import PPMLabelEncoder\n",
    "from tqdm.notebook import tqdm\n",
    "\n",
    "loader = BenchmarkLoader()\n",
    "benchmark = loader.load_from_folder('attribute_suffix_classification')\n",
    "tasks = benchmark.get_tasks()\n",
    "results = dict()\n",
    "\n",
    "for task_name in tqdm(tasks):\n",
    "    task = benchmark.load_task(task_name)\n",
    "    train = task.get_train_data()\n",
    "    test = task.get_test_data()\n",
    "    string_cols = train.select_dtypes(include=['object']).columns\n",
    "    encoder = PPMLabelEncoder()\n",
    "    train[string_cols] = encoder.fit_transform(train[string_cols])\n",
    "    string_cols = test.select_dtypes(include=['object']).columns\n",
    "    test[string_cols] = encoder.transform_with_new_labels(test[string_cols])\n",
    "    X = train.drop('target', axis=1)\n",
    "    y = train['target'].apply(lambda x: np.array(x))\n",
    "    \n",
    "    np.random.shuffle(test['target'])\n",
    "    \n",
    "    results[task.name] = test['target']"
   ],
   "id": "d3ff890731844998",
   "execution_count": 2,
   "outputs": []
  },
  {
   "metadata": {},
   "cell_type": "code",
   "source": [
    "import pickle\n",
    "\n",
    "with open('attribute_suffix_classification/test_results.pkl', 'wb') as f:\n",
    "    pickle.dump(results, f)"
   ],
   "id": "968cfea59f925a8d",
   "execution_count": 3,
   "outputs": []
  },
  {
   "metadata": {
    "ExecuteTime": {
     "end_time": "2024-09-09T07:18:51.500507Z",
     "start_time": "2024-09-09T07:18:46.839332Z"
    }
   },
   "cell_type": "code",
   "source": [
    "import pickle\n",
    "from ppm_benchmark.core.benchmark_loader import BenchmarkLoader\n",
    "\n",
    "\n",
    "loader = BenchmarkLoader()\n",
    "benchmark = loader.load_from_folder('attribute_suffix_classification')\n",
    "evaluator = benchmark.get_evaluator()\n",
    "\n",
    "with open('attribute_suffix_classification/test_results.pkl', 'rb') as f:\n",
    "    results = pickle.load(f)"
   ],
   "id": "d9bb60c60a8eaf09",
   "execution_count": 1,
   "outputs": []
  },
  {
   "metadata": {
    "ExecuteTime": {
     "end_time": "2024-09-09T07:18:51.990374Z",
     "start_time": "2024-09-09T07:18:51.500507Z"
    }
   },
   "cell_type": "code",
   "source": [
    "for task_name, result in results.items():\n",
    "    task = benchmark.load_task(task_name)\n",
    "    test = task.get_test_data().drop('target', axis=1)\n",
    "    evaluator.add_predictions(task_name, result, 'shuffle')"
   ],
   "id": "dc8553be16484a98",
   "execution_count": 2,
   "outputs": []
  },
  {
   "metadata": {
    "jupyter": {
     "is_executing": true
    },
    "ExecuteTime": {
     "start_time": "2024-09-09T07:18:51.991492Z"
    }
   },
   "cell_type": "code",
   "source": "evaluator.evaluate()",
   "id": "de5be4099e2b118f",
   "execution_count": null,
   "outputs": []
  },
  {
   "metadata": {
    "jupyter": {
     "is_executing": true
    }
   },
   "cell_type": "code",
   "source": "evaluator.plot_by_fraction_completed('DamerauLevenshtein')",
   "id": "51bb764522f40c8f",
   "execution_count": null,
   "outputs": []
  }
 ],
 "metadata": {
  "kernelspec": {
   "display_name": "Python 3",
   "language": "python",
   "name": "python3"
  },
  "language_info": {
   "codemirror_mode": {
    "name": "ipython",
    "version": 2
   },
   "file_extension": ".py",
   "mimetype": "text/x-python",
   "name": "python",
   "nbconvert_exporter": "python",
   "pygments_lexer": "ipython2",
   "version": "2.7.6"
  }
 },
 "nbformat": 4,
 "nbformat_minor": 5
}
