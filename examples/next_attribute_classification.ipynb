{
 "cells": [
  {
   "cell_type": "code",
   "id": "initial_id",
   "metadata": {
    "collapsed": true,
    "ExecuteTime": {
     "end_time": "2025-03-24T11:23:46.618915Z",
     "start_time": "2025-03-24T11:22:34.578313Z"
    }
   },
   "source": [
    "from ppm_benchmark.core.benchmark_loader import BenchmarkLoader\n",
    "\n",
    "\n",
    "loader = BenchmarkLoader()\n",
    "benchmark = loader.load_from_config('../benchmark_configs/remote/mini/remote_next_attribute_classification.yaml', max_workers=2)\n",
    "\n",
    "tasks = benchmark.get_tasks()\n",
    "tasks"
   ],
   "outputs": [
    {
     "name": "stderr",
     "output_type": "stream",
     "text": [
      "2025-03-24 12:23:35,503 - ppm_benchmark.core.benchmark_loader - INFO - Completed task: bpi_2015_1_next_attribute\n",
      "2025-03-24 12:23:35,612 - ppm_benchmark.core.benchmark_loader - INFO - Completed task: bpi_2015_3_next_attribute\n",
      "2025-03-24 12:23:35,834 - ppm_benchmark.core.benchmark_loader - INFO - Tasks initialized successfully.\n",
      "2025-03-24 12:23:35,835 - ppm_benchmark.core.benchmark_loader - INFO - Initializing evaluator...\n",
      "2025-03-24 12:23:46,268 - ppm_benchmark.core.benchmark_loader - INFO - Evaluator initialized successfully.\n"
     ]
    },
    {
     "data": {
      "text/plain": [
       "['bpi_2015_1_next_attribute', 'bpi_2015_3_next_attribute']"
      ]
     },
     "execution_count": 1,
     "metadata": {},
     "output_type": "execute_result"
    }
   ],
   "execution_count": 1
  },
  {
   "metadata": {
    "ExecuteTime": {
     "end_time": "2025-03-24T11:24:51.481054Z",
     "start_time": "2025-03-24T11:23:46.621516Z"
    }
   },
   "cell_type": "code",
   "source": [
    "from ppm_benchmark.core.benchmark_loader import BenchmarkLoader\n",
    "from sklearn.ensemble import RandomForestClassifier\n",
    "from ppm_benchmark.utils.label_encoder import PPMLabelEncoder\n",
    "from tqdm.notebook import tqdm\n",
    "\n",
    "loader = BenchmarkLoader()\n",
    "benchmark = loader.load_from_folder('next_attribute_classification')\n",
    "tasks = benchmark.get_tasks()\n",
    "results = dict()\n",
    "\n",
    "for task_name in tqdm(tasks):\n",
    "    print(task_name)\n",
    "    if 'bpi_2015_1' in task_name or 'bpi_2015_3' in task_name:    \n",
    "        print(f'Training for {task_name}')\n",
    "        task = benchmark.load_task(task_name)\n",
    "        train = task.get_train_data()\n",
    "\n",
    "        original_cols = train.columns\n",
    "        train = train[train['target'].notna()]\n",
    "        train = train.dropna(axis=1)\n",
    "        dropped_cols = [col for col in original_cols if col not in train.columns]\n",
    "        dropped_cols.append('target')\n",
    "        test = task.get_test_data().drop(dropped_cols, axis=1)\n",
    "        \n",
    "        string_cols = train.select_dtypes(include=['object']).columns\n",
    "        encoder = PPMLabelEncoder()\n",
    "        train[string_cols] = encoder.fit_transform(train[string_cols])\n",
    "        string_cols = test.select_dtypes(include=['object']).columns\n",
    "        test[string_cols] = encoder.transform_with_new_labels(test[string_cols])\n",
    "        \n",
    "        X = train.drop('target', axis=1)\n",
    "        y = train['target']\n",
    "        \n",
    "        model = RandomForestClassifier()\n",
    "        model.fit(X, y)\n",
    "            \n",
    "        probas = model.predict_proba(test)\n",
    "        decoded_labels = encoder.inverse_transform_column('target', model.classes_)\n",
    "        \n",
    "        result = []\n",
    "        for row in probas:\n",
    "            row_dict = {decoded_labels[idx]: prob for idx, prob in enumerate(row)}\n",
    "            result.append(row_dict)\n",
    "        \n",
    "        results[task.name] = result"
   ],
   "id": "fbb3b2a3b6a8abfe",
   "outputs": [
    {
     "data": {
      "text/plain": [
       "  0%|          | 0/2 [00:00<?, ?it/s]"
      ],
      "application/vnd.jupyter.widget-view+json": {
       "version_major": 2,
       "version_minor": 0,
       "model_id": "6cdc82f770c3492e9f70132ab554a1a3"
      }
     },
     "metadata": {},
     "output_type": "display_data"
    },
    {
     "name": "stdout",
     "output_type": "stream",
     "text": [
      "bpi_2015_1_next_attribute\n",
      "Training for bpi_2015_1_next_attribute\n",
      "bpi_2015_3_next_attribute\n",
      "Training for bpi_2015_3_next_attribute\n"
     ]
    },
    {
     "name": "stderr",
     "output_type": "stream",
     "text": [
      "C:\\Users\\Dell\\OneDrive - Universiteit Leiden\\Thesis\\ppm_benchmark_package\\ppm_benchmark\\models\\task.py:40: DtypeWarning: Columns (25,26) have mixed types. Specify dtype option on import or set low_memory=False.\n",
      "  train_df = pd.read_csv(os.path.join(self.save_folder, 'train.csv'))\n"
     ]
    }
   ],
   "execution_count": 2
  },
  {
   "metadata": {
    "ExecuteTime": {
     "end_time": "2025-03-24T11:25:07.668221Z",
     "start_time": "2025-03-24T11:24:51.483056Z"
    }
   },
   "cell_type": "code",
   "source": [
    "import pickle\n",
    "\n",
    "with open('next_attribute_classification/test_results.pkl', 'wb') as f:\n",
    "    pickle.dump(results, f)"
   ],
   "id": "9b28b19a20efb1f4",
   "outputs": [],
   "execution_count": 3
  },
  {
   "metadata": {
    "ExecuteTime": {
     "end_time": "2025-03-24T11:50:43.510685Z",
     "start_time": "2025-03-24T11:50:38.957889Z"
    }
   },
   "cell_type": "code",
   "source": [
    "import pickle\n",
    "from ppm_benchmark.core.benchmark_loader import BenchmarkLoader\n",
    "\n",
    "\n",
    "loader = BenchmarkLoader()\n",
    "benchmark = loader.load_from_folder('next_attribute_classification')\n",
    "evaluator = benchmark.get_evaluator()\n",
    "\n",
    "with open('next_attribute_classification/test_results.pkl', 'rb') as f:\n",
    "    results = pickle.load(f)"
   ],
   "id": "bbc914993e8f7486",
   "outputs": [],
   "execution_count": 1
  },
  {
   "metadata": {
    "ExecuteTime": {
     "end_time": "2025-03-24T11:50:48.149898Z",
     "start_time": "2025-03-24T11:50:43.513716Z"
    }
   },
   "cell_type": "code",
   "source": [
    "for task_name, result in results.items():\n",
    "    evaluator.add_predictions(task_name, result, 'RF', None)\n",
    "    "
   ],
   "id": "bc0c7e29010ed5f9",
   "outputs": [
    {
     "name": "stdout",
     "output_type": "stream",
     "text": [
      "Length before: 9407\n",
      "Length after: 9407\n",
      "Length before: 9886\n",
      "Length after: 9886\n"
     ]
    }
   ],
   "execution_count": 2
  },
  {
   "metadata": {
    "ExecuteTime": {
     "end_time": "2025-03-24T11:50:58.689405Z",
     "start_time": "2025-03-24T11:50:48.152245Z"
    }
   },
   "cell_type": "code",
   "source": "evaluator.evaluate()",
   "id": "e172b77d27efcbb3",
   "outputs": [
    {
     "data": {
      "text/plain": [
       "                   task_name     metric        RF  naive_baseline  \\\n",
       "0  bpi_2015_1_next_attribute   Accuracy  0.256511        0.053790   \n",
       "1  bpi_2015_1_next_attribute        PRS  0.289927        0.318381   \n",
       "2  bpi_2015_1_next_attribute  Precision  0.262128        0.063744   \n",
       "3  bpi_2015_1_next_attribute     Recall  0.256511        0.053790   \n",
       "4  bpi_2015_1_next_attribute    F1Score  0.253231        0.048812   \n",
       "5  bpi_2015_3_next_attribute   Accuracy  0.431722        0.068278   \n",
       "6  bpi_2015_3_next_attribute        PRS  0.276827        0.176556   \n",
       "7  bpi_2015_3_next_attribute  Precision  0.408997        0.071389   \n",
       "8  bpi_2015_3_next_attribute     Recall  0.431722        0.068278   \n",
       "9  bpi_2015_3_next_attribute    F1Score  0.414009        0.059137   \n",
       "\n",
       "   train_branches  \n",
       "0        0.113320  \n",
       "1        0.405586  \n",
       "2        0.124180  \n",
       "3        0.113320  \n",
       "4        0.113304  \n",
       "5        0.226684  \n",
       "6        0.217014  \n",
       "7        0.237363  \n",
       "8        0.226684  \n",
       "9        0.220152  "
      ],
      "text/html": [
       "<div>\n",
       "<style scoped>\n",
       "    .dataframe tbody tr th:only-of-type {\n",
       "        vertical-align: middle;\n",
       "    }\n",
       "\n",
       "    .dataframe tbody tr th {\n",
       "        vertical-align: top;\n",
       "    }\n",
       "\n",
       "    .dataframe thead th {\n",
       "        text-align: right;\n",
       "    }\n",
       "</style>\n",
       "<table border=\"1\" class=\"dataframe\">\n",
       "  <thead>\n",
       "    <tr style=\"text-align: right;\">\n",
       "      <th></th>\n",
       "      <th>task_name</th>\n",
       "      <th>metric</th>\n",
       "      <th>RF</th>\n",
       "      <th>naive_baseline</th>\n",
       "      <th>train_branches</th>\n",
       "    </tr>\n",
       "  </thead>\n",
       "  <tbody>\n",
       "    <tr>\n",
       "      <th>0</th>\n",
       "      <td>bpi_2015_1_next_attribute</td>\n",
       "      <td>Accuracy</td>\n",
       "      <td>0.256511</td>\n",
       "      <td>0.053790</td>\n",
       "      <td>0.113320</td>\n",
       "    </tr>\n",
       "    <tr>\n",
       "      <th>1</th>\n",
       "      <td>bpi_2015_1_next_attribute</td>\n",
       "      <td>PRS</td>\n",
       "      <td>0.289927</td>\n",
       "      <td>0.318381</td>\n",
       "      <td>0.405586</td>\n",
       "    </tr>\n",
       "    <tr>\n",
       "      <th>2</th>\n",
       "      <td>bpi_2015_1_next_attribute</td>\n",
       "      <td>Precision</td>\n",
       "      <td>0.262128</td>\n",
       "      <td>0.063744</td>\n",
       "      <td>0.124180</td>\n",
       "    </tr>\n",
       "    <tr>\n",
       "      <th>3</th>\n",
       "      <td>bpi_2015_1_next_attribute</td>\n",
       "      <td>Recall</td>\n",
       "      <td>0.256511</td>\n",
       "      <td>0.053790</td>\n",
       "      <td>0.113320</td>\n",
       "    </tr>\n",
       "    <tr>\n",
       "      <th>4</th>\n",
       "      <td>bpi_2015_1_next_attribute</td>\n",
       "      <td>F1Score</td>\n",
       "      <td>0.253231</td>\n",
       "      <td>0.048812</td>\n",
       "      <td>0.113304</td>\n",
       "    </tr>\n",
       "    <tr>\n",
       "      <th>5</th>\n",
       "      <td>bpi_2015_3_next_attribute</td>\n",
       "      <td>Accuracy</td>\n",
       "      <td>0.431722</td>\n",
       "      <td>0.068278</td>\n",
       "      <td>0.226684</td>\n",
       "    </tr>\n",
       "    <tr>\n",
       "      <th>6</th>\n",
       "      <td>bpi_2015_3_next_attribute</td>\n",
       "      <td>PRS</td>\n",
       "      <td>0.276827</td>\n",
       "      <td>0.176556</td>\n",
       "      <td>0.217014</td>\n",
       "    </tr>\n",
       "    <tr>\n",
       "      <th>7</th>\n",
       "      <td>bpi_2015_3_next_attribute</td>\n",
       "      <td>Precision</td>\n",
       "      <td>0.408997</td>\n",
       "      <td>0.071389</td>\n",
       "      <td>0.237363</td>\n",
       "    </tr>\n",
       "    <tr>\n",
       "      <th>8</th>\n",
       "      <td>bpi_2015_3_next_attribute</td>\n",
       "      <td>Recall</td>\n",
       "      <td>0.431722</td>\n",
       "      <td>0.068278</td>\n",
       "      <td>0.226684</td>\n",
       "    </tr>\n",
       "    <tr>\n",
       "      <th>9</th>\n",
       "      <td>bpi_2015_3_next_attribute</td>\n",
       "      <td>F1Score</td>\n",
       "      <td>0.414009</td>\n",
       "      <td>0.059137</td>\n",
       "      <td>0.220152</td>\n",
       "    </tr>\n",
       "  </tbody>\n",
       "</table>\n",
       "</div>"
      ]
     },
     "execution_count": 3,
     "metadata": {},
     "output_type": "execute_result"
    }
   ],
   "execution_count": 3
  },
  {
   "metadata": {
    "ExecuteTime": {
     "end_time": "2025-03-24T11:52:02.027394Z",
     "start_time": "2025-03-24T11:51:58.992484Z"
    }
   },
   "cell_type": "code",
   "source": [
    "import warnings\n",
    "warnings.filterwarnings(\"ignore\")\n",
    "\n",
    "evaluator.plot_by_train_distance('Accuracy', 'next_attribute_classification', save=True, use_pgf=False, single_row=True)"
   ],
   "id": "1fc78432f5d504c1",
   "outputs": [
    {
     "name": "stdout",
     "output_type": "stream",
     "text": [
      "plot_df length before dropping nan: 19293\n",
      "plot_df length after dropping nan: 19293\n",
      "Generating plot for bpi_2015_1_next_attribute\n",
      "Total original traces in test data: 9407\n",
      "Number of samples included: 9407\n",
      "Generating plot for bpi_2015_3_next_attribute\n",
      "Total original traces in test data: 9886\n",
      "Number of samples included: 9886\n"
     ]
    }
   ],
   "execution_count": 5
  },
  {
   "metadata": {
    "ExecuteTime": {
     "end_time": "2025-03-24T11:52:08.218555Z",
     "start_time": "2025-03-24T11:52:02.029213Z"
    }
   },
   "cell_type": "code",
   "source": "evaluator.plot_attr_drift('Accuracy', 'next_attribute_classification', save=True, use_pgf=False, single_row=True)",
   "id": "ac90540739ddd6f1",
   "outputs": [
    {
     "name": "stdout",
     "output_type": "stream",
     "text": [
      "plot_df length before dropping nan: 19293\n",
      "plot_df length after dropping nan: 19293\n"
     ]
    }
   ],
   "execution_count": 6
  },
  {
   "metadata": {
    "ExecuteTime": {
     "end_time": "2025-03-24T11:52:10.698523Z",
     "start_time": "2025-03-24T11:52:08.220147Z"
    }
   },
   "cell_type": "code",
   "source": "evaluator.plot_by_fraction_completed('Accuracy', 'next_attribute_classification', save=True, use_pgf=False, single_row=True)",
   "id": "9e9ffcb9e8d18415",
   "outputs": [
    {
     "name": "stdout",
     "output_type": "stream",
     "text": [
      "plot_df length before dropping nan: 19293\n",
      "plot_df length after dropping nan: 19293\n"
     ]
    }
   ],
   "execution_count": 7
  }
 ],
 "metadata": {
  "kernelspec": {
   "display_name": "Python 3",
   "language": "python",
   "name": "python3"
  },
  "language_info": {
   "codemirror_mode": {
    "name": "ipython",
    "version": 2
   },
   "file_extension": ".py",
   "mimetype": "text/x-python",
   "name": "python",
   "nbconvert_exporter": "python",
   "pygments_lexer": "ipython2",
   "version": "2.7.6"
  }
 },
 "nbformat": 4,
 "nbformat_minor": 5
}
