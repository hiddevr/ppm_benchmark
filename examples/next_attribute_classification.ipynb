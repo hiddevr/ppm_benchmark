{
 "cells": [
  {
   "cell_type": "code",
   "id": "initial_id",
   "metadata": {
    "collapsed": true,
    "jupyter": {
     "is_executing": true
    }
   },
   "source": [
    "from ppm_benchmark.core.benchmark_loader import BenchmarkLoader\n",
    "\n",
    "\n",
    "loader = BenchmarkLoader()\n",
    "benchmark = loader.load_from_config('../benchmark_configs/remote/remote_next_attribute_classification.yaml', max_workers=2)\n",
    "\n",
    "tasks = benchmark.get_tasks()\n",
    "tasks"
   ],
   "outputs": [],
   "execution_count": null
  },
  {
   "metadata": {
    "ExecuteTime": {
     "end_time": "2024-09-08T10:54:49.725630Z",
     "start_time": "2024-09-08T10:48:08.756481Z"
    }
   },
   "cell_type": "code",
   "source": [
    "from ppm_benchmark.core.benchmark_loader import BenchmarkLoader\n",
    "from sklearn.ensemble import RandomForestClassifier\n",
    "from ppm_benchmark.utils.label_encoder import PPMLabelEncoder\n",
    "from tqdm.notebook import tqdm\n",
    "\n",
    "loader = BenchmarkLoader()\n",
    "benchmark = loader.load_from_folder('next_attribute_classification')\n",
    "tasks = benchmark.get_tasks()\n",
    "results = dict()\n",
    "\n",
    "for task_name in tqdm(tasks):\n",
    "    task = benchmark.load_task(task_name)\n",
    "    train = task.get_train_data()\n",
    "    test = task.get_test_data().drop('target', axis=1)\n",
    "    \n",
    "    string_cols = train.select_dtypes(include=['object']).columns\n",
    "    encoder = PPMLabelEncoder()\n",
    "    train[string_cols] = encoder.fit_transform(train[string_cols])\n",
    "    string_cols = test.select_dtypes(include=['object']).columns\n",
    "    test[string_cols] = encoder.transform_with_new_labels(test[string_cols])\n",
    "    \n",
    "    X = train.drop('target', axis=1)\n",
    "    y = train['target']\n",
    "    \n",
    "    model = RandomForestClassifier()\n",
    "    model.fit(X, y)\n",
    "        \n",
    "    probas = model.predict_proba(test)\n",
    "    decoded_labels = encoder.inverse_transform_column('target', model.classes_)\n",
    "    \n",
    "    result = []\n",
    "    for row in probas:\n",
    "        row_dict = {decoded_labels[idx]: prob for idx, prob in enumerate(row)}\n",
    "        result.append(row_dict)\n",
    "    \n",
    "    results[task.name] = result"
   ],
   "id": "fbb3b2a3b6a8abfe",
   "execution_count": 2,
   "outputs": []
  },
  {
   "metadata": {
    "ExecuteTime": {
     "end_time": "2024-09-08T10:55:02.066514Z",
     "start_time": "2024-09-08T10:54:49.727635Z"
    }
   },
   "cell_type": "code",
   "source": [
    "import pickle\n",
    "\n",
    "with open('next_attribute_classification/test_results.pkl', 'wb') as f:\n",
    "    pickle.dump(results, f)"
   ],
   "id": "9b28b19a20efb1f4",
   "execution_count": 3,
   "outputs": []
  },
  {
   "metadata": {
    "ExecuteTime": {
     "end_time": "2025-01-03T10:50:54.877523Z",
     "start_time": "2025-01-03T10:50:54.269494Z"
    }
   },
   "cell_type": "code",
   "source": [
    "import pickle\n",
    "from ppm_benchmark.core.benchmark_loader import BenchmarkLoader\n",
    "\n",
    "\n",
    "loader = BenchmarkLoader()\n",
    "benchmark = loader.load_from_folder('next_attribute_classification')\n",
    "evaluator = benchmark.get_evaluator()\n",
    "\n",
    "with open('next_attribute_classification/test_results.pkl', 'rb') as f:\n",
    "    results = pickle.load(f)"
   ],
   "id": "bbc914993e8f7486",
   "execution_count": 1,
   "outputs": []
  },
  {
   "metadata": {
    "ExecuteTime": {
     "end_time": "2024-09-08T10:55:12.020399Z",
     "start_time": "2024-09-08T10:55:07.578674Z"
    }
   },
   "cell_type": "code",
   "source": [
    "for task_name, result in results.items():\n",
    "    evaluator.add_predictions(task_name, result, 'RF')\n",
    "    "
   ],
   "id": "bc0c7e29010ed5f9",
   "execution_count": 5,
   "outputs": []
  },
  {
   "metadata": {
    "ExecuteTime": {
     "end_time": "2024-09-08T10:55:45.200376Z",
     "start_time": "2024-09-08T10:55:12.021396Z"
    }
   },
   "cell_type": "code",
   "source": "evaluator.evaluate()",
   "id": "e172b77d27efcbb3",
   "execution_count": 6,
   "outputs": []
  },
  {
   "metadata": {
    "ExecuteTime": {
     "end_time": "2024-09-08T10:55:57.879829Z",
     "start_time": "2024-09-08T10:55:54.885988Z"
    }
   },
   "cell_type": "code",
   "source": "evaluator.plot_by_train_distance('Accuracy')",
   "id": "1fc78432f5d504c1",
   "execution_count": 8,
   "outputs": []
  },
  {
   "metadata": {
    "ExecuteTime": {
     "end_time": "2024-09-08T10:56:00.843285Z",
     "start_time": "2024-09-08T10:55:57.880831Z"
    }
   },
   "cell_type": "code",
   "source": "evaluator.plot_attr_drift('Accuracy')",
   "id": "ac90540739ddd6f1",
   "execution_count": 9,
   "outputs": []
  },
  {
   "metadata": {
    "ExecuteTime": {
     "end_time": "2024-09-08T10:56:04.241474Z",
     "start_time": "2024-09-08T10:56:00.844247Z"
    }
   },
   "cell_type": "code",
   "source": "evaluator.plot_by_fraction_completed('Accuracy')",
   "id": "9e9ffcb9e8d18415",
   "execution_count": 10,
   "outputs": []
  },
  {
   "metadata": {
    "ExecuteTime": {
     "end_time": "2024-09-08T10:56:04.257468Z",
     "start_time": "2024-09-08T10:56:04.243429Z"
    }
   },
   "cell_type": "code",
   "source": "",
   "id": "a6470be583cc0f83",
   "execution_count": 10,
   "outputs": []
  }
 ],
 "metadata": {
  "kernelspec": {
   "display_name": "Python 3",
   "language": "python",
   "name": "python3"
  },
  "language_info": {
   "codemirror_mode": {
    "name": "ipython",
    "version": 2
   },
   "file_extension": ".py",
   "mimetype": "text/x-python",
   "name": "python",
   "nbconvert_exporter": "python",
   "pygments_lexer": "ipython2",
   "version": "2.7.6"
  }
 },
 "nbformat": 4,
 "nbformat_minor": 5
}
