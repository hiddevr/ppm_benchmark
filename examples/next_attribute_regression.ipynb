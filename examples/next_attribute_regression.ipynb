{
 "cells": [
  {
   "cell_type": "code",
   "id": "initial_id",
   "metadata": {
    "collapsed": true,
    "ExecuteTime": {
     "end_time": "2024-09-08T11:05:03.246289Z",
     "start_time": "2024-09-08T11:03:40.909176Z"
    }
   },
   "source": [
    "from ppm_benchmark.core.benchmark_loader import BenchmarkLoader\n",
    "\n",
    "\n",
    "loader = BenchmarkLoader()\n",
    "benchmark = loader.load_from_config('../benchmark_configs/remote/remote_next_attribute_regression.yaml', max_workers=2)\n",
    "\n",
    "tasks = benchmark.get_tasks()\n",
    "tasks"
   ],
   "execution_count": 1,
   "outputs": []
  },
  {
   "metadata": {
    "ExecuteTime": {
     "end_time": "2024-09-08T11:06:12.619687Z",
     "start_time": "2024-09-08T11:05:03.248286Z"
    }
   },
   "cell_type": "code",
   "source": [
    "from ppm_benchmark.core.benchmark_loader import BenchmarkLoader\n",
    "from sklearn.ensemble import RandomForestRegressor\n",
    "from ppm_benchmark.utils.label_encoder import PPMLabelEncoder\n",
    "from tqdm.notebook import tqdm\n",
    "\n",
    "loader = BenchmarkLoader()\n",
    "benchmark = loader.load_from_folder('next_attribute_regression')\n",
    "tasks = benchmark.get_tasks()\n",
    "results = dict()\n",
    "\n",
    "for task_name in tqdm(tasks):\n",
    "    task = benchmark.load_task(task_name)\n",
    "    train = task.get_train_data()\n",
    "    test = task.get_test_data().drop('target', axis=1)\n",
    "    \n",
    "    string_cols = train.select_dtypes(include=['object']).columns\n",
    "    encoder = PPMLabelEncoder()\n",
    "    train[string_cols] = encoder.fit_transform(train[string_cols])\n",
    "    string_cols = test.select_dtypes(include=['object']).columns\n",
    "    test[string_cols] = encoder.transform_with_new_labels(test[string_cols])\n",
    "    \n",
    "    X = train.drop('target', axis=1)\n",
    "    y = train['target']\n",
    "    \n",
    "    model = RandomForestRegressor()\n",
    "    model.fit(X, y)\n",
    "        \n",
    "    preds = model.predict(test)\n",
    "    results[task.name] = preds"
   ],
   "id": "fbb3b2a3b6a8abfe",
   "execution_count": 2,
   "outputs": []
  },
  {
   "metadata": {
    "ExecuteTime": {
     "end_time": "2024-09-08T11:06:12.634725Z",
     "start_time": "2024-09-08T11:06:12.620690Z"
    }
   },
   "cell_type": "code",
   "source": [
    "import pickle\n",
    "\n",
    "with open('next_attribute_regression/test_results.pkl', 'wb') as f:\n",
    "    pickle.dump(results, f)"
   ],
   "id": "9b28b19a20efb1f4",
   "execution_count": 3,
   "outputs": []
  },
  {
   "metadata": {
    "ExecuteTime": {
     "end_time": "2024-09-11T06:20:05.751731Z",
     "start_time": "2024-09-11T06:20:03.110912Z"
    }
   },
   "cell_type": "code",
   "source": [
    "import pickle\n",
    "from ppm_benchmark.core.benchmark_loader import BenchmarkLoader\n",
    "\n",
    "\n",
    "loader = BenchmarkLoader()\n",
    "benchmark = loader.load_from_folder('next_attribute_regression')\n",
    "evaluator = benchmark.get_evaluator()\n",
    "\n",
    "with open('next_attribute_regression/test_results.pkl', 'rb') as f:\n",
    "    results = pickle.load(f)"
   ],
   "id": "bbc914993e8f7486",
   "execution_count": 1,
   "outputs": []
  },
  {
   "metadata": {
    "ExecuteTime": {
     "end_time": "2024-09-11T06:20:05.798556Z",
     "start_time": "2024-09-11T06:20:05.753791Z"
    }
   },
   "cell_type": "code",
   "source": [
    "for task_name, result in results.items():\n",
    "    evaluator.add_predictions(task_name, result, 'RF')\n",
    "    "
   ],
   "id": "bc0c7e29010ed5f9",
   "execution_count": 2,
   "outputs": []
  },
  {
   "metadata": {
    "ExecuteTime": {
     "end_time": "2024-09-11T06:20:06.032755Z",
     "start_time": "2024-09-11T06:20:05.800568Z"
    }
   },
   "cell_type": "code",
   "source": "evaluator.evaluate()",
   "id": "e172b77d27efcbb3",
   "execution_count": 3,
   "outputs": []
  },
  {
   "metadata": {
    "ExecuteTime": {
     "end_time": "2024-09-11T06:20:07.268109Z",
     "start_time": "2024-09-11T06:20:06.035758Z"
    }
   },
   "cell_type": "code",
   "source": "evaluator.plot_by_fraction_completed('MAE')",
   "id": "4b4df3582c86f651",
   "execution_count": 4,
   "outputs": []
  },
  {
   "metadata": {
    "ExecuteTime": {
     "end_time": "2024-09-11T06:20:08.239121Z",
     "start_time": "2024-09-11T06:20:07.270792Z"
    }
   },
   "cell_type": "code",
   "source": "evaluator.plot_by_train_distance('MAE')",
   "id": "1fc78432f5d504c1",
   "execution_count": 5,
   "outputs": []
  },
  {
   "metadata": {
    "ExecuteTime": {
     "end_time": "2024-09-11T06:20:09.437317Z",
     "start_time": "2024-09-11T06:20:08.240631Z"
    }
   },
   "cell_type": "code",
   "source": "evaluator.plot_attr_drift('MAE')",
   "id": "ac90540739ddd6f1",
   "execution_count": 6,
   "outputs": []
  },
  {
   "metadata": {},
   "cell_type": "code",
   "source": "",
   "id": "9744ecdcc1f441a2",
   "execution_count": null,
   "outputs": []
  }
 ],
 "metadata": {
  "kernelspec": {
   "display_name": "Python 3",
   "language": "python",
   "name": "python3"
  },
  "language_info": {
   "codemirror_mode": {
    "name": "ipython",
    "version": 2
   },
   "file_extension": ".py",
   "mimetype": "text/x-python",
   "name": "python",
   "nbconvert_exporter": "python",
   "pygments_lexer": "ipython2",
   "version": "2.7.6"
  }
 },
 "nbformat": 4,
 "nbformat_minor": 5
}
